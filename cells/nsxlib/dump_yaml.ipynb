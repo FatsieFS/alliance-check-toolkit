{
 "cells": [
  {
   "cell_type": "markdown",
   "metadata": {},
   "source": [
    "# Init"
   ]
  },
  {
   "cell_type": "code",
   "execution_count": 1,
   "metadata": {},
   "outputs": [
    {
     "name": "stdout",
     "output_type": "stream",
     "text": [
      "  o  Locating configuration directory:\n",
      "     - \"/home/verhaegs/coriolis-2.x/Linux.el7_64/Release.Shared/install/etc/coriolis2\"\n",
      "     - \"/home/verhaegs/coriolis-2.x/Linux.el7_64/Release.Shared/install/etc/coriolis2\"\n",
      "     - \".../Linux.el7_64/Release.Shared/install/etc/coriolis2/symbolic/cmos/technology.pyc\".\n",
      "     - \".../Linux.el7_64/Release.Shared/install/etc/coriolis2/symbolic/cmos/display.pyc\".\n",
      "     - \".../Linux.el7_64/Release.Shared/install/etc/coriolis2/symbolic/cmos/analog.pyc\".\n",
      "     - \".../Linux.el7_64/Release.Shared/install/etc/coriolis2/symbolic/cmos/alliance.pyc\".\n",
      "     - \".../Linux.el7_64/Release.Shared/install/etc/coriolis2/symbolic/cmos/etesian.pyc\".\n",
      "     - \".../Linux.el7_64/Release.Shared/install/etc/coriolis2/symbolic/cmos/kite.pyc\".\n",
      "     - \".../Linux.el7_64/Release.Shared/install/etc/coriolis2/symbolic/cmos/plugins.pyc\".\n",
      "     - \".../Linux.el7_64/Release.Shared/install/etc/coriolis2/symbolic/cmos/stratus1.pyc\".\n"
     ]
    },
    {
     "data": {
      "text/plain": [
       "90"
      ]
     },
     "execution_count": 1,
     "metadata": {},
     "output_type": "execute_result"
    }
   ],
   "source": [
    "import yaml\n",
    "import CRL, helpers\n",
    "from Hurricane import DataBase, DbU, UpdateSession, Contact, Horizontal, Vertical, Net\n",
    "\n",
    "helpers.loadUserSettings()\n",
    "\n",
    "framework = CRL.AllianceFramework.get()\n",
    "tech = DataBase.getDB().getTechnology()\n",
    "lib = framework.getLibrary(0)\n",
    "framework.loadLibraryCells(lib)"
   ]
  },
  {
   "cell_type": "markdown",
   "metadata": {},
   "source": [
    "# Convert"
   ]
  },
  {
   "cell_type": "code",
   "execution_count": 2,
   "metadata": {},
   "outputs": [
    {
     "name": "stdout",
     "output_type": "stream",
     "text": [
      "xr2_x4\n",
      "xr2_x1\n",
      "ao2o22_x2\n",
      "ao2o22_x4\n",
      "mx2_x2\n",
      "mx2_x4\n",
      "no3_x4\n",
      "no3_x1\n",
      "an12_x4\n",
      "an12_x1\n",
      "inv_x1\n",
      "inv_x2\n",
      "inv_x4\n",
      "inv_x8\n",
      "noa22_x1\n",
      "noa22_x4\n",
      "nao2o22_x4\n",
      "nao2o22_x1\n",
      "a3_x4\n",
      "a3_x2\n",
      "sff2_x4\n",
      "nmx3_x1\n",
      "noa2ao222_x1\n",
      "noa2ao222_x4\n",
      "o3_x2\n",
      "o3_x4\n",
      "na4_x4\n",
      "na4_x1\n",
      "zero_x0\n",
      "no4_x1\n",
      "mx3_x4\n",
      "mx3_x2\n",
      "no4_x4\n",
      "noa2a2a23_x1\n",
      "noa2a2a23_x4\n",
      "noa3ao322_x1\n",
      "noa3ao322_x4\n",
      "oa2a22_x2\n",
      "oa2a22_x4\n",
      "oa2ao222_x2\n",
      "oa2ao222_x4\n",
      "one_x0\n",
      "rowend_x0\n",
      "ao22_x4\n",
      "ao22_x2\n",
      "a4_x4\n",
      "a4_x2\n",
      "noa2a2a2a24_x1\n",
      "noa2a2a2a24_x4\n",
      "on12_x1\n",
      "on12_x4\n",
      "na2_x4\n",
      "na2_x1\n",
      "oa2a2a2a24_x2\n",
      "oa2a2a2a24_x4\n",
      "no2_x1\n",
      "buf_x2\n",
      "noa2a22_x1\n",
      "noa2a22_x4\n",
      "nts_x1\n",
      "nts_x2\n",
      "o4_x2\n",
      "o4_x4\n",
      "powmid_x0\n",
      "no2_x4\n",
      "nao22_x4\n",
      "nao22_x1\n",
      "a2_x4\n",
      "a2_x2\n",
      "buf_x4\n",
      "buf_x8\n",
      "sff1_x4\n",
      "oa2a2a23_x2\n",
      "oa2a2a23_x4\n",
      "oa3ao322_x2\n",
      "oa3ao322_x4\n",
      "ts_x8\n",
      "ts_x4\n",
      "tie_x0\n",
      "nmx2_x4\n",
      "nmx2_x1\n",
      "nxr2_x1\n",
      "nxr2_x4\n",
      "o2_x2\n",
      "o2_x4\n",
      "sff1r_x4\n",
      "oa22_x2\n",
      "oa22_x4\n",
      "na3_x4\n",
      "na3_x1\n"
     ]
    }
   ],
   "source": [
    "net_types = {\n",
    "    Net.Type.UNDEFINED: \"UNDEFINED\",\n",
    "    Net.Type.LOGICAL: \"LOGICAL\",\n",
    "    Net.Type.CLOCK: \"CLOCK\",\n",
    "    Net.Type.POWER: \"POWER\",\n",
    "    Net.Type.GROUND: \"GROUND\",\n",
    "    Net.Type.BLOCKAGE: \"BLOCKAGE\",\n",
    "    Net.Type.FUSED: \"FUSED\",\n",
    "}\n",
    "comp_classes = {\n",
    "    Contact: \"Contact\",\n",
    "    Horizontal: \"Horizontal\",\n",
    "    Vertical: \"Vertical\",\n",
    "}\n",
    "\n",
    "d_lib = {}\n",
    "for cell in lib.getCells():\n",
    "    print(cell.getName())\n",
    "    d_lib[cell.getName()] = d_cell = {}\n",
    "    box = cell.getAbutmentBox()\n",
    "    d_cell[\"boundary\"] = {\n",
    "        \"x1\": int(box.getXMin()),\n",
    "        \"y1\": int(box.getYMin()),\n",
    "        \"x2\": int(box.getXMax()),\n",
    "        \"y2\": int(box.getYMax()),\n",
    "    }\n",
    "\n",
    "    d_cell[\"nets\"] = d_nets = {}\n",
    "    for net in cell.getNets():\n",
    "        assert net.getType() in net_types, \"Unsupported net type\"\n",
    "        d_nets[net.getName()] = {\n",
    "            \"type\": net_types[net.getType()],\n",
    "            \"external\": net.isExternal(),\n",
    "        }\n",
    "\n",
    "    d_cell[\"components\"] = comps = []\n",
    "    for comp in cell.getComponents():\n",
    "        cls = comp.__class__\n",
    "        assert cls in comp_classes, \"Unsupported component class\"\n",
    "        net = comp.getNet()\n",
    "        d_comp = {\n",
    "            \"type\": comp_classes[cls],\n",
    "            \"net\": net.getName(),\n",
    "            \"layer\": comp.getLayer().getName(),\n",
    "            \"external\": net.isExternal() and (comp in net.getExternalComponents())\n",
    "        }\n",
    "        if isinstance(comp, Contact):\n",
    "            d_comp.update({\n",
    "                \"x\": int(comp.getX()),\n",
    "                \"y\": int(comp.getY()),\n",
    "                \"width\": int(comp.getWidth()),\n",
    "            })\n",
    "            assert d_comp[\"width\"] == int(comp.getHeight())\n",
    "        elif isinstance(comp, Horizontal):\n",
    "            d_comp.update({\n",
    "                \"y\": int(comp.getY()),\n",
    "                \"width\": int(comp.getWidth()),\n",
    "                \"dx\": {\n",
    "                    \"source\": int(comp.getDxSource()),\n",
    "                    \"target\": int(comp.getDxTarget()),\n",
    "                },\n",
    "            })\n",
    "        elif isinstance(comp, Vertical):\n",
    "            d_comp.update({\n",
    "                \"x\": int(comp.getX()),\n",
    "                \"width\": int(comp.getWidth()),\n",
    "                \"dy\": {\n",
    "                    \"source\": int(comp.getDySource()),\n",
    "                    \"target\": int(comp.getDyTarget()),\n",
    "                }\n",
    "            })\n",
    "        else:\n",
    "            raise Exception(\"Internal error\")\n",
    "\n",
    "        comps.append(d_comp)"
   ]
  },
  {
   "cell_type": "markdown",
   "metadata": {},
   "source": [
    "# Write"
   ]
  },
  {
   "cell_type": "code",
   "execution_count": 3,
   "metadata": {},
   "outputs": [],
   "source": [
    "with open(\"nsxlib.yaml\", \"w\") as f:\n",
    "    yaml.dump(d_lib, f)"
   ]
  },
  {
   "cell_type": "markdown",
   "metadata": {},
   "source": [
    "# Playground"
   ]
  },
  {
   "cell_type": "code",
   "execution_count": 7,
   "metadata": {},
   "outputs": [
    {
     "data": {
      "text/plain": [
       "['__class__',\n",
       " '__cmp__',\n",
       " '__delattr__',\n",
       " '__doc__',\n",
       " '__format__',\n",
       " '__getattribute__',\n",
       " '__hash__',\n",
       " '__init__',\n",
       " '__new__',\n",
       " '__reduce__',\n",
       " '__reduce_ex__',\n",
       " '__repr__',\n",
       " '__setattr__',\n",
       " '__sizeof__',\n",
       " '__str__',\n",
       " '__subclasshook__',\n",
       " 'addDeviceDescriptor',\n",
       " 'addPhysicalRule',\n",
       " 'addUnitRule',\n",
       " 'create',\n",
       " 'destroy',\n",
       " 'getBasicLayer',\n",
       " 'getBasicLayers',\n",
       " 'getCutAbove',\n",
       " 'getCutBelow',\n",
       " 'getDataBase',\n",
       " 'getDeviceDescriptor',\n",
       " 'getLayer',\n",
       " 'getLayers',\n",
       " 'getMetalAbove',\n",
       " 'getMetalBelow',\n",
       " 'getName',\n",
       " 'getNthMetal',\n",
       " 'getPhysicalRule',\n",
       " 'getRegularLayer',\n",
       " 'getRegularLayers',\n",
       " 'getUnitRule',\n",
       " 'getViaBetween',\n",
       " 'getViaLayer',\n",
       " 'getViaLayers',\n",
       " 'isMetal',\n",
       " 'setName',\n",
       " 'setSymbolicLayer']"
      ]
     },
     "execution_count": 7,
     "metadata": {},
     "output_type": "execute_result"
    }
   ],
   "source": [
    "dir(tech)"
   ]
  },
  {
   "cell_type": "code",
   "execution_count": 22,
   "metadata": {},
   "outputs": [
    {
     "name": "stdout",
     "output_type": "stream",
     "text": [
      "<id:1587 Cell inv_x1>\n"
     ]
    }
   ],
   "source": [
    "cells = dict((cell.getName(), cell) for cell in lib.getCells())\n",
    "inv_x1 = cells[\"inv_x1\"]\n",
    "print(cells[\"inv_x1\"])"
   ]
  },
  {
   "cell_type": "code",
   "execution_count": 19,
   "metadata": {},
   "outputs": [
    {
     "name": "stdout",
     "output_type": "stream",
     "text": [
      "2\n",
      "<__main__.B object at 0x7f928e1d7150>\n"
     ]
    }
   ],
   "source": [
    "class A(object):\n",
    "    a = 1\n",
    "    def __init__(self):\n",
    "        return\n",
    "\n",
    "class B(A):\n",
    "    a = 2\n",
    "    def __init__(self):\n",
    "        print(self.a)\n",
    "        super(B, self).__init__()\n",
    "\n",
    "print(B())"
   ]
  },
  {
   "cell_type": "code",
   "execution_count": 25,
   "metadata": {},
   "outputs": [],
   "source": [
    "if list():\n",
    "    print(\"Duh!\")"
   ]
  },
  {
   "cell_type": "code",
   "execution_count": 23,
   "metadata": {},
   "outputs": [
    {
     "name": "stdout",
     "output_type": "stream",
     "text": [
      "Module needs to be imported\n"
     ]
    }
   ],
   "source": [
    "try:\n",
    "    reload(dkfl)\n",
    "except NameError:\n",
    "    print(\"Module needs to be imported\")"
   ]
  },
  {
   "cell_type": "code",
   "execution_count": 39,
   "metadata": {},
   "outputs": [
    {
     "data": {
      "text/plain": [
       "True"
      ]
     },
     "execution_count": 39,
     "metadata": {},
     "output_type": "execute_result"
    }
   ],
   "source": [
    "\"a\" == \"a\" == \"a\""
   ]
  },
  {
   "cell_type": "code",
   "execution_count": 37,
   "metadata": {},
   "outputs": [
    {
     "name": "stdout",
     "output_type": "stream",
     "text": [
      "Help on class ifilterfalse in module itertools:\n",
      "\n",
      "class ifilterfalse(__builtin__.object)\n",
      " |  ifilterfalse(function or None, sequence) --> ifilterfalse object\n",
      " |  \n",
      " |  Return those items of sequence for which function(item) is false.\n",
      " |  If function is None, return the items that are false.\n",
      " |  \n",
      " |  Methods defined here:\n",
      " |  \n",
      " |  __getattribute__(...)\n",
      " |      x.__getattribute__('name') <==> x.name\n",
      " |  \n",
      " |  __iter__(...)\n",
      " |      x.__iter__() <==> iter(x)\n",
      " |  \n",
      " |  next(...)\n",
      " |      x.next() -> the next value, or raise StopIteration\n",
      " |  \n",
      " |  ----------------------------------------------------------------------\n",
      " |  Data and other attributes defined here:\n",
      " |  \n",
      " |  __new__ = <built-in method __new__ of type object>\n",
      " |      T.__new__(S, ...) -> a new object with type S, a subtype of T\n",
      "\n"
     ]
    }
   ],
   "source": [
    "import itertools\n",
    "help(itertools.ifilterfalse)"
   ]
  },
  {
   "cell_type": "code",
   "execution_count": null,
   "metadata": {},
   "outputs": [],
   "source": []
  }
 ],
 "metadata": {
  "kernelspec": {
   "display_name": "Python 2",
   "language": "python",
   "name": "python2"
  },
  "language_info": {
   "codemirror_mode": {
    "name": "ipython",
    "version": 2
   },
   "file_extension": ".py",
   "mimetype": "text/x-python",
   "name": "python",
   "nbconvert_exporter": "python",
   "pygments_lexer": "ipython2",
   "version": "2.7.17"
  }
 },
 "nbformat": 4,
 "nbformat_minor": 2
}
