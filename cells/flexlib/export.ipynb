{
 "cells": [
  {
   "cell_type": "markdown",
   "metadata": {},
   "source": [
    "# Description\n",
    "\n",
    "This notebook is used to export a flexlib to a Alliance library.\n",
    "\n",
    "# Init\n",
    "\n",
    "As I currently am not aware of a clean way to way to clear an Alliance library from memory the kernel needs to be restarted (0-0 shortcut) each time one wants to export the flexlib to an Alliance library."
   ]
  },
  {
   "cell_type": "markdown",
   "metadata": {},
   "source": [
    "## Import"
   ]
  },
  {
   "cell_type": "code",
   "execution_count": 1,
   "metadata": {},
   "outputs": [
    {
     "name": "stdout",
     "output_type": "stream",
     "text": [
      "  o  Locating configuration directory:\n",
      "     - \"/home/verhaegs/coriolis-2.x/Linux.el7_64/Release.Shared/install/etc/coriolis2\"\n",
      "     - \"/home/verhaegs/coriolis-2.x/Linux.el7_64/Release.Shared/install/etc/coriolis2\"\n"
     ]
    }
   ],
   "source": [
    "# Error if we are already loaded\n",
    "try:\n",
    "    _test = helpers\n",
    "except NameError:\n",
    "    pass\n",
    "else:\n",
    "    raise RuntimeError(\"Kernel not restarted before importing\")\n",
    "\n",
    "import yaml, cPickle, textwrap\n",
    "import CRL, helpers\n",
    "from Hurricane import DataBase, DbU, UpdateSession, Contact, Horizontal, Vertical, Net, Box, NetExternalComponents\n",
    "    \n",
    "try:\n",
    "    reload(celllib)\n",
    "except NameError:\n",
    "    import celllib\n",
    "from celllib import *"
   ]
  },
  {
   "cell_type": "markdown",
   "metadata": {},
   "source": [
    "## Alliance init\n",
    "\n",
    "Existing CATAL is emptied first so no cells are loaded"
   ]
  },
  {
   "cell_type": "code",
   "execution_count": 2,
   "metadata": {},
   "outputs": [
    {
     "name": "stdout",
     "output_type": "stream",
     "text": [
      "     - \".../Linux.el7_64/Release.Shared/install/etc/coriolis2/symbolic/cmos/technology.pyc\".\n",
      "     - \".../Linux.el7_64/Release.Shared/install/etc/coriolis2/symbolic/cmos/display.pyc\".\n",
      "     - \".../Linux.el7_64/Release.Shared/install/etc/coriolis2/symbolic/cmos/analog.pyc\".\n",
      "     - \".../Linux.el7_64/Release.Shared/install/etc/coriolis2/symbolic/cmos/alliance.pyc\".\n",
      "     - \".../Linux.el7_64/Release.Shared/install/etc/coriolis2/symbolic/cmos/etesian.pyc\".\n",
      "     - \".../Linux.el7_64/Release.Shared/install/etc/coriolis2/symbolic/cmos/kite.pyc\".\n",
      "     - \".../Linux.el7_64/Release.Shared/install/etc/coriolis2/symbolic/cmos/plugins.pyc\".\n",
      "     - \".../Linux.el7_64/Release.Shared/install/etc/coriolis2/symbolic/cmos/stratus1.pyc\".\n"
     ]
    },
    {
     "data": {
      "text/plain": [
       "0"
      ]
     },
     "execution_count": 2,
     "metadata": {},
     "output_type": "execute_result"
    }
   ],
   "source": [
    "# Load an empty library\n",
    "with open(\"CATAL\", \"w\") as f:\n",
    "    pass\n",
    "\n",
    "helpers.loadUserSettings()\n",
    "\n",
    "framework = CRL.AllianceFramework.get()\n",
    "db = DataBase.getDB()\n",
    "tech = db.getTechnology()\n",
    "lib = framework.getLibrary(0)\n",
    "alib = framework.getAllianceLibrary(0)\n",
    "\n",
    "framework.loadLibraryCells(lib)"
   ]
  },
  {
   "cell_type": "markdown",
   "metadata": {},
   "source": [
    "## Alliance start over\n",
    "\n",
    "Clear exising library from memory and clear the cell list.\n",
    "\n",
    "**Currently does not work**"
   ]
  },
  {
   "cell_type": "code",
   "execution_count": 3,
   "metadata": {},
   "outputs": [],
   "source": [
    "##framework.destroy()\n",
    "#db.destroy()\n",
    "#with open(\"CATAL\", \"w\") as f:\n",
    "#    pass\n",
    "#\n",
    "#helpers.loadUserSettings()\n",
    "#\n",
    "#db = DataBase.create()\n",
    "#framework = CRL.AllianceFramework.get()\n",
    "#tech = db.getTechnology()\n",
    "#lib = framework.getLibrary(0)\n",
    "#alib = framework.getAllianceLibrary(0)\n",
    "#framework.loadLibraryCells(lib)"
   ]
  },
  {
   "cell_type": "markdown",
   "metadata": {},
   "source": [
    "# Load library"
   ]
  },
  {
   "cell_type": "code",
   "execution_count": 4,
   "metadata": {},
   "outputs": [],
   "source": [
    "from flexlib import flexlib\n",
    "from flexlibextra import flexlibextra"
   ]
  },
  {
   "cell_type": "markdown",
   "metadata": {},
   "source": [
    "# Write Alliance library"
   ]
  },
  {
   "cell_type": "code",
   "execution_count": 5,
   "metadata": {},
   "outputs": [
    {
     "name": "stdout",
     "output_type": "stream",
     "text": [
      "Creating Hurricane Library\n",
      "\ta2_x2\n",
      "\ta2_x4\n",
      "\ta3_x2\n",
      "\ta3_x4\n",
      "\ta4_x2\n",
      "\ta4_x4\n",
      "\tan12_x1\n",
      "\tan12_x4\n",
      "\tao22_x2\n",
      "\tao22_x4\n",
      "\tao2o22_x2\n",
      "\tao2o22_x4\n",
      "\tbuf_x2\n",
      "\tbuf_x4\n",
      "\tbuf_x8\n",
      "\tinv_x1\n",
      "\tinv_x1m2\n",
      "\tinv_x2\n",
      "\tinv_x4\n",
      "\tinv_x4m2\n",
      "\tinv_x8\n",
      "\tmx2_x2\n",
      "\tmx2_x4\n",
      "\tmx3_x2\n",
      "\tmx3_x4\n",
      "\tna2_x1\n",
      "\tna2_x4\n",
      "\tna3_x1\n",
      "\tna3_x4\n",
      "\tna4_x1\n",
      "\tna4_x4\n",
      "\tnao22_x1\n",
      "\tnao22_x4\n",
      "\tnao2o22_x1\n",
      "\tnao2o22_x4\n",
      "\tnmx2_x1\n",
      "\tnmx2_x4\n",
      "\tnmx3_x1\n",
      "\tno2_x1\n",
      "\tno2_x4\n",
      "\tno3_x1\n",
      "\tno3_x4\n",
      "\tno4_x1\n",
      "\tno4_x4\n",
      "\tnoa22_x1\n",
      "\tnoa22_x4\n",
      "\tnoa2a22_x1\n",
      "\tnoa2a22_x4\n",
      "\tnoa2a2a23_x1\n",
      "\tnoa2a2a23_x4\n",
      "\tnoa2a2a2a24_x1\n",
      "\tnoa2a2a2a24_x4\n",
      "\tnoa2ao222_x1\n",
      "\tnoa2ao222_x4\n",
      "\tnoa3ao322_x1\n",
      "\tnoa3ao322_x4\n",
      "\tnsnrlatch_x1\n",
      "\tnsnrlatch_x4\n",
      "\tnts_x1\n",
      "\tnts_x2\n",
      "\tnxr2_x1\n",
      "\tnxr2_x4\n",
      "\to2_x2\n",
      "\to2_x4\n",
      "\to3_x2\n",
      "\to3_x4\n",
      "\to4_x2\n",
      "\to4_x4\n",
      "\toa22_x2\n",
      "\toa22_x4\n",
      "\toa2a22_x2\n",
      "\toa2a22_x4\n",
      "\toa2a2a23_x2\n",
      "\toa2a2a23_x4\n",
      "\toa2a2a2a24_x2\n",
      "\toa2a2a2a24_x4\n",
      "\toa2ao222_x2\n",
      "\toa2ao222_x4\n",
      "\toa3ao322_x2\n",
      "\toa3ao322_x4\n",
      "\ton12_x1\n",
      "\ton12_x4\n",
      "\tone_x0\n",
      "\tpowmid_x0\n",
      "\trowend_x0\n",
      "\tsff1_x4\n",
      "\tsff1r_x4\n",
      "\tsff2_x4\n",
      "\tsrlatch_x1\n",
      "\tsrlatch_x4\n",
      "\ttie_x0\n",
      "\tts_x4\n",
      "\tts_x8\n",
      "\txr2_x1\n",
      "\txr2_x4\n",
      "\tzero_x0\n",
      "Updating catalog\n",
      "Done\n"
     ]
    }
   ],
   "source": [
    "# This cell will fail if library is not empty\n",
    "print(\"Creating Hurricane Library\")\n",
    "_lib = {cell.name: cell for cell in flexlib}\n",
    "_lib.update({cell.name: cell for cell in flexlibextra})\n",
    "cellnames = _lib.keys()\n",
    "cellnames.sort()\n",
    "\n",
    "for name in cellnames:\n",
    "    print(\"\\t\"+name)\n",
    "    _lib[name].create_in_coriolis()\n",
    "\n",
    "print(\"Updating catalog\")\n",
    "with open(\"CATAL\", \"w\") as fcat:\n",
    "    for name in cellnames:\n",
    "        fcat.write(\"{} C\\n\".format(name))\n",
    "        \n",
    "print(\"Done\")"
   ]
  },
  {
   "cell_type": "markdown",
   "metadata": {},
   "source": [
    "# Playground"
   ]
  },
  {
   "cell_type": "code",
   "execution_count": null,
   "metadata": {},
   "outputs": [],
   "source": []
  }
 ],
 "metadata": {
  "kernelspec": {
   "display_name": "Python 2",
   "language": "python",
   "name": "python2"
  },
  "language_info": {
   "codemirror_mode": {
    "name": "ipython",
    "version": 2
   },
   "file_extension": ".py",
   "mimetype": "text/x-python",
   "name": "python",
   "nbconvert_exporter": "python",
   "pygments_lexer": "ipython2",
   "version": "2.7.17"
  }
 },
 "nbformat": 4,
 "nbformat_minor": 2
}
