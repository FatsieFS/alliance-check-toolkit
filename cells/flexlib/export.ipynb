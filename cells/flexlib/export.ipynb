{
 "cells": [
  {
   "cell_type": "markdown",
   "metadata": {},
   "source": [
    "# Description\n",
    "\n",
    "This notebook is used to export a flexlib to a Alliance library.\n",
    "\n",
    "# Init"
   ]
  },
  {
   "cell_type": "code",
   "execution_count": null,
   "metadata": {},
   "outputs": [],
   "source": [
    "import yaml, cPickle, textwrap\n",
    "import CRL, helpers\n",
    "from Hurricane import DataBase, DbU, UpdateSession, Contact, Horizontal, Vertical, Net, Box, NetExternalComponents\n",
    "    \n",
    "try:\n",
    "    reload(stdcell)\n",
    "except NameError:\n",
    "    import stdcell\n",
    "from stdcell import *"
   ]
  },
  {
   "cell_type": "markdown",
   "metadata": {},
   "source": [
    "# Load library"
   ]
  },
  {
   "cell_type": "code",
   "execution_count": null,
   "metadata": {},
   "outputs": [],
   "source": [
    "from flexlib import flexlib\n",
    "from flexlibextra import flexlibextra"
   ]
  },
  {
   "cell_type": "markdown",
   "metadata": {},
   "source": [
    "# Write Alliance library"
   ]
  },
  {
   "cell_type": "code",
   "execution_count": null,
   "metadata": {},
   "outputs": [],
   "source": [
    "helpers.resetCoriolis()\n",
    "\n",
    "# Load an empty library\n",
    "with open(\"CATAL\", \"w\") as f:\n",
    "    pass\n",
    "\n",
    "helpers.loadUserSettings()\n",
    "\n",
    "framework = CRL.AllianceFramework.get()\n",
    "db = DataBase.getDB()\n",
    "tech = db.getTechnology()\n",
    "lib = framework.getLibrary(0)\n",
    "alib = framework.getAllianceLibrary(0)\n",
    "\n",
    "framework.loadLibraryCells(lib)\n",
    "\n",
    "print(\"Creating Hurricane Library\")\n",
    "_lib = {cell.name: cell for cell in flexlib}\n",
    "_lib.update({cell.name: cell for cell in flexlibextra})\n",
    "cellnames = _lib.keys()\n",
    "cellnames.sort()\n",
    "\n",
    "for name in cellnames:\n",
    "    print(\"\\t\"+name)\n",
    "    _lib[name].create_in_coriolis()\n",
    "\n",
    "print(\"Updating catalog\")\n",
    "with open(\"CATAL\", \"w\") as fcat:\n",
    "    for name in cellnames:\n",
    "        fcat.write(\"{} C\\n\".format(name))\n",
    "        \n",
    "print(\"Done\")"
   ]
  },
  {
   "cell_type": "markdown",
   "metadata": {},
   "source": [
    "# Playground"
   ]
  },
  {
   "cell_type": "code",
   "execution_count": null,
   "metadata": {},
   "outputs": [],
   "source": []
  }
 ],
 "metadata": {
  "kernelspec": {
   "display_name": "Python 2",
   "language": "python",
   "name": "python2"
  },
  "language_info": {
   "codemirror_mode": {
    "name": "ipython",
    "version": 2
   },
   "file_extension": ".py",
   "mimetype": "text/x-python",
   "name": "python",
   "nbconvert_exporter": "python",
   "pygments_lexer": "ipython2",
   "version": "2.7.17"
  }
 },
 "nbformat": 4,
 "nbformat_minor": 2
}
